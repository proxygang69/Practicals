{
 "cells": [
  {
   "cell_type": "code",
   "execution_count": 1,
   "metadata": {},
   "outputs": [
    {
     "name": "stdout",
     "output_type": "stream",
     "text": [
      "   Age  Salary  Purchased\n",
      "0   19   19000          0\n",
      "1   35   20000          0\n",
      "2   26   43000          0\n",
      "3   27   57000          0\n",
      "4   19   76000          0\n",
      "<class 'pandas.core.frame.DataFrame'>\n",
      "RangeIndex: 400 entries, 0 to 399\n",
      "Data columns (total 3 columns):\n",
      " #   Column     Non-Null Count  Dtype\n",
      "---  ------     --------------  -----\n",
      " 0   Age        400 non-null    int64\n",
      " 1   Salary     400 non-null    int64\n",
      " 2   Purchased  400 non-null    int64\n",
      "dtypes: int64(3)\n",
      "memory usage: 9.5 KB\n",
      "None\n",
      "Accuracy: 0.9250\n",
      "\n",
      "Classification Report:\n",
      "              precision    recall  f1-score   support\n",
      "\n",
      "           0       0.93      0.96      0.94        52\n",
      "           1       0.92      0.86      0.89        28\n",
      "\n",
      "    accuracy                           0.93        80\n",
      "   macro avg       0.92      0.91      0.92        80\n",
      "weighted avg       0.92      0.93      0.92        80\n",
      "\n",
      "\n",
      "Confusion Matrix:\n",
      "[[50  2]\n",
      " [ 4 24]]\n"
     ]
    }
   ],
   "source": [
    "\n",
    "\n",
    "# Step 1: Import necessary libraries\n",
    "import pandas as pd\n",
    "from sklearn.model_selection import train_test_split\n",
    "from sklearn.naive_bayes import GaussianNB  # or use MultinomialNB for categorical data\n",
    "from sklearn.metrics import accuracy_score, classification_report, confusion_matrix\n",
    "\n",
    "# Step 2: Load the dataset\n",
    "# Replace 'NaiveBayes.csv' with the actual path to your CSV file\n",
    "data = pd.read_csv('NaiveBayes.csv')\n",
    "\n",
    "# Step 3: Inspect the data (optional but useful)\n",
    "print(data.head())  # View the first few rows of the dataset\n",
    "print(data.info())  # Check for missing values or categorical features\n",
    "\n",
    "# Step 4: Preprocess the data\n",
    "# If necessary, handle missing values and encode categorical variables\n",
    "# Assuming the target variable is the last column and the rest are features\n",
    "X = data.iloc[:, :-1]  # Features (all columns except the target)\n",
    "y = data.iloc[:, -1]   # Target variable (last column)\n",
    "\n",
    "# Split the data into training and testing sets (80% training, 20% testing)\n",
    "X_train, X_test, y_train, y_test = train_test_split(X, y, test_size=0.2, random_state=42)\n",
    "\n",
    "# Step 5: Train the Naïve Bayes Classifier\n",
    "# Using Gaussian Naïve Bayes (use MultinomialNB for discrete features)\n",
    "model = GaussianNB()\n",
    "model.fit(X_train, y_train)\n",
    "\n",
    "# Step 6: Make predictions\n",
    "y_pred = model.predict(X_test)\n",
    "\n",
    "# Step 7: Evaluate the performance of the model\n",
    "# Accuracy\n",
    "accuracy = accuracy_score(y_test, y_pred)\n",
    "print(f\"Accuracy: {accuracy:.4f}\")\n",
    "\n",
    "# Detailed classification report (precision, recall, f1-score)\n",
    "print(\"\\nClassification Report:\")\n",
    "print(classification_report(y_test, y_pred))\n",
    "\n",
    "# Confusion Matrix\n",
    "print(\"\\nConfusion Matrix:\")\n",
    "print(confusion_matrix(y_test, y_pred))\n"
   ]
  }
 ],
 "metadata": {
  "kernelspec": {
   "display_name": "Python 3",
   "language": "python",
   "name": "python3"
  },
  "language_info": {
   "codemirror_mode": {
    "name": "ipython",
    "version": 3
   },
   "file_extension": ".py",
   "mimetype": "text/x-python",
   "name": "python",
   "nbconvert_exporter": "python",
   "pygments_lexer": "ipython3",
   "version": "3.8.0"
  }
 },
 "nbformat": 4,
 "nbformat_minor": 2
}
